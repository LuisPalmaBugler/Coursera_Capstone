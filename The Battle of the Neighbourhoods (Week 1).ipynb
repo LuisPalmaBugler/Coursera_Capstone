{
    "cells": [
        {
            "cell_type": "markdown",
            "metadata": {
                "collapsed": true
            },
            "source": "# Capstone Project - The Battle of the Neighbourhoods (Week 1)\n### Applied Data Science Capstone by IBM/Coursera"
        },
        {
            "cell_type": "markdown",
            "metadata": {},
            "source": "## Table of contents\n* [Introduction: Business Problem](#introduction)\n* [Data](#data)"
        },
        {
            "cell_type": "markdown",
            "metadata": {},
            "source": "## Introduction: Business Problem <a name=\"introduction\"></a>"
        },
        {
            "cell_type": "markdown",
            "metadata": {},
            "source": "In this project we will try to find an optimal location for a Coffee Shop. Specifically, this report will be targeted to stakeholders interested in opening an **Coffee Shop** in **Toronto**, Canada.\n\n\nConsidering that the success of the Coffee Shop operation depends on several factors, in this analysis we will address two. One is the number of Coffee Shop that already exist in the neighbourhood, since these will be the competition of our Coffee Shop. The second is the number of consumers who attend the competing Coffee Shops since these are the potential consumers for ours.\n\nFinally, a segmentation and classification of neighbourhoods will be carried out based on the criteria indicated to determine the one that meets the ideal condition, that is, a neighbourhood with a low density of Coffee Shop and a high number of consumers per Coffee Shop."
        },
        {
            "cell_type": "markdown",
            "metadata": {},
            "source": "## Data <a name=\"data\"></a>"
        },
        {
            "cell_type": "markdown",
            "metadata": {},
            "source": "To develop this project I will use:\n\n* The location (latitude and longitude) of each Toronto neighbourhood, obtained from the Wikipedia website.\n\n* The Coffee Shop located within a radius of 500 meters from the center of every neighbourhood, obtain with the foursquare data location and **search** endpoint.\n\n* The distance at which each of the Coffee Shop is located from the center of the neighbourhood, obtain with the API of foursquare data location and **search** endpoint.\n\n* The number of likes that each of these Coffee Shop had, obtain with the API of foursquare data location and search **likes**. "
        }
    ],
    "metadata": {
        "kernelspec": {
            "display_name": "Python 3.6",
            "language": "python",
            "name": "python3"
        },
        "language_info": {
            "codemirror_mode": {
                "name": "ipython",
                "version": 3
            },
            "file_extension": ".py",
            "mimetype": "text/x-python",
            "name": "python",
            "nbconvert_exporter": "python",
            "pygments_lexer": "ipython3",
            "version": "3.6.9"
        }
    },
    "nbformat": 4,
    "nbformat_minor": 1
}